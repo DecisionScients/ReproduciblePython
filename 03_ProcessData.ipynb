{
 "cells": [
  {
   "cell_type": "markdown",
   "metadata": {
    "slideshow": {
     "slide_type": "slide"
    }
   },
   "source": [
    "# Adding the code that performs the analysis\n",
    "\n",
    "Now for the real work- writing the code that will perform out analysis.\n",
    "\n",
    "We want to do the following:\n",
    "- Create a Jupyter notebook for exploratory analysis\n",
    "- Generate the following outputs using python scripts:\n",
    "    - Generate a subset of `winemag-130k-v2.csv` containing only the following columns: `country, designation, points, price (in GBP)`. Save in a .csv file\n",
    "    - Generate and save a table of wines only produced in Chile\n",
    "    - Save a scatterplot of the wines points vs price and a distribution plot of wine scores"
   ]
  },
  {
   "cell_type": "markdown",
   "metadata": {
    "slideshow": {
     "slide_type": "subslide"
    }
   },
   "source": [
    "Don't worry you do not have to generate all of the scripts... we have provided some scripts for you to get started.\n",
    "You should now have a directory called `SupportScripts`\n",
    "\n",
    "You need to make sure that they are in the appropriate directory inside your newly created project.\n",
    "- Noteboks\n",
    "- src/data\n",
    "- src/visualization\n",
    "\n",
    "Once this is done commit your changes to git\n",
    "```bash\n",
    "$ git add .\n",
    "$ git commit -m \"Add processing scripts\"\n",
    "```"
   ]
  },
  {
   "cell_type": "markdown",
   "metadata": {
    "slideshow": {
     "slide_type": "subslide"
    }
   },
   "source": [
    "# Documentation\n",
    "\n",
    "Documentation is an important part of a reproducible workflow.\n",
    "\n",
    "Take 5 minutes and identify which scripts/notebook have the best documentation. Why makes it a good documentation?\n",
    "\n",
    "A good point to start is checking the [Google Python style guidelines](https://google.github.io/styleguide/pyguide.html#Comments)"
   ]
  },
  {
   "cell_type": "markdown",
   "metadata": {
    "slideshow": {
     "slide_type": "subslide"
    }
   },
   "source": [
    "Let's face it.... there are going to be files\n",
    "**LOTS** of files\n",
    "\n",
    "![files](assets/allthefiles.png)"
   ]
  },
  {
   "cell_type": "markdown",
   "metadata": {
    "slideshow": {
     "slide_type": "slide"
    }
   },
   "source": [
    "# The art of naming\n",
    "\n",
    "The three principles for (file) names:\n",
    "- **Machine readable **: regex and globbing friendly, deliberate use of delimiters *\n",
    "- **Human readable**: contains info on content, connects to concept of slug from semantic URLs\n",
    "- **Plays well with default ordering**: put something numeric first, use ISO 8601 for dates **YYYY-MM-DD**\n",
    "\n",
    "<small>* Avoid spaced, accented characters, files 'foo' and 'Foo' </small>"
   ]
  },
  {
   "cell_type": "markdown",
   "metadata": {
    "slideshow": {
     "slide_type": "subslide"
    }
   },
   "source": [
    "![](./assets/dates_ISO.png)"
   ]
  },
  {
   "cell_type": "markdown",
   "metadata": {
    "slideshow": {
     "slide_type": "subslide"
    }
   },
   "source": [
    "## What works and what doesn't\n",
    "\n",
    "<table>\n",
    "  <tr>\n",
    "    <th>NO</th>\n",
    "    <th>YES</th>\n",
    "  </tr>\n",
    "  <tr>\n",
    "    <td>report.docx</td>\n",
    "    <td>2018-02-03_report-for-sla.docx</td>\n",
    "  </tr>\n",
    "  <tr>\n",
    "    <td>Joey's filename has spaces and punctuation.xlsx</td>\n",
    "    <td>joeys-filenames-are-getting-better.xlsx</td>\n",
    "  </tr>\n",
    "  <tr>\n",
    "    <td>fig 1.png</td>\n",
    "    <td>fig01_scatterplot-talk-length-vs-interest.png</td>\n",
    "  </tr>\n",
    "</table>\n"
   ]
  },
  {
   "cell_type": "markdown",
   "metadata": {
    "slideshow": {
     "slide_type": "slide"
    }
   },
   "source": [
    "# The scripts\n",
    "\n",
    "Let's start by checking the scripts and notebooks:\n",
    "- **00_explore-data.ipynb**: exploratory analysis \n",
    "- **01_subset-data-GBP.py**: subset of winemag-130k-v2.csv containing only the following columns: country, designation, points, price (in GBP). Save in a .csv file\n",
    "- **02_visualize-wines.py**\n",
    "- **03_country-subset.py**\n",
    "\n",
    "From the root of your file system you can run the scripts as follow:\n",
    "```\n",
    "$ python src/data/01_subset-data-GBP.py data/raw/winemag-data-130k-v2.csv \n",
    "$ python src/visualization/02_visualize-wines.py data/interim/2018-05-09-winemag_priceGBP.csv \n",
    "$ python src/data/03_country-subset.py data/interim/2018-05-09-winemag_priceGBP.csv Chile\n",
    "```\n"
   ]
  },
  {
   "cell_type": "markdown",
   "metadata": {
    "slideshow": {
     "slide_type": "subslide"
    }
   },
   "source": [
    "# Packaging\n",
    "\n",
    "We used a modular approach here, so we can use and reuse the functions more efficiently. \n",
    "The next step it to make a `runall` script to minimize the user interaction. \n",
    "\n",
    "First, we need to make sure that Python recognizes our scripts as a package so we can call functions from the multiple modules.\n",
    "\n",
    "From the shell: \n",
    "```\n",
    "$ touch src/data/__init__.py  # Create empty file\n",
    "$ touch src/visualization/__init__.py  # Create empty file\n",
    "$ touch src/__init__.py\n",
    "```"
   ]
  },
  {
   "cell_type": "markdown",
   "metadata": {
    "slideshow": {
     "slide_type": "subslide"
    }
   },
   "source": [
    "# Creating the `run all` script\n",
    "\n",
    "<div class='info'> \n",
    "    We will run everything from the root directory.<br>\n",
    "    As such all the paths will be relative to the top level of your project\n",
    "</div>\n",
    "\n",
    "Since our modules start with digits (i.e. `01`, `02`) we cannot do the import as we'd normally do\n",
    "```python \n",
    "from mypackage import myawesomemodule\n",
    "```\n",
    "Instead we need to do it like so:\n",
    "```python\n",
    "subset = importlib.import_module('.data.01_subset-data-GBP', 'scripts')\n",
    "plotwines = importlib.import_module('.visualization.02_visualize-wines', 'scripts')\n",
    "country_sub = importlib.import_module('.data.03_country-subset', 'scripts')\n",
    "```\n",
    "\n",
    "Also we need to make sure the imports are declared in `src/__init__.py`\n",
    "```python\n",
    "from . import data\n",
    "from . import visualization\n",
    "```"
   ]
  },
  {
   "cell_type": "markdown",
   "metadata": {},
   "source": [
    "### TO DO:\n",
    "\n",
    "How would you do to run the analysis from step 01 (process the data) to 03 subset for a country and plot the results?\n",
    "\n",
    "\n",
    "Once you have done this and make sure you can run it from your shell and commit the changes to git.\n",
    "\n",
    "Note you might need to run this from the shell like so \n",
    "```\n",
    "python -m scripts.runall-wine-analysis\n",
    "``` \n"
   ]
  },
  {
   "cell_type": "code",
   "execution_count": 1,
   "metadata": {},
   "outputs": [
    {
     "data": {
      "text/html": [
       "<link href=\"https://fonts.googleapis.com/css?family=Didact+Gothic|Dosis:400,500,700\" rel=\"stylesheet\"><style>\n",
       "@font-face {\n",
       "  font-family: \"Computer Modern\";\n",
       "  src: url('http://mirrors.ctan.org/fonts/cm-unicode/fonts/otf/cmunss.otf');\n",
       "}\n",
       "/* div.cell{\n",
       "width:800px;\n",
       "margin-left:16% !important;\n",
       "margin-right:auto;\n",
       "} */\n",
       "h1 {\n",
       "  font-family: 'Dosis', \"Helvetica Neue\", Arial, sans-serif;\n",
       "  color: #0B132B;\n",
       "}\n",
       "h2 {\n",
       "  font-family: 'Dosis', sans-serif;\n",
       "  color: #1C2541;\n",
       "}\n",
       "h3{\n",
       "  font-family: 'Dosis', sans-serif;\n",
       "  margin-top:12px;\n",
       "  margin-bottom: 3px;\n",
       "  color: #40a8a6;\n",
       "}\n",
       "h4{\n",
       "  font-family: 'Dosis', sans-serif;\n",
       "  color: #40a8a6;\n",
       "}\n",
       "h5 {\n",
       "  font-family: 'Dosis', sans-serif;\n",
       "  color: #40a8a6;\n",
       "}\n",
       "div.text_cell_render{\n",
       "  font-family: 'Didact Gothic',Computer Modern, \"Helvetica Neue\", Arial, Helvetica,\n",
       "  Geneva, sans-serif;\n",
       "  line-height: 130%;\n",
       "  font-size: 110%;\n",
       "  /* width:600px; */\n",
       "  /* margin-left:auto;\n",
       "  margin-right:auto; */\n",
       "}\n",
       "\n",
       ".text_cell_render h1 {\n",
       "  font-weight: 200;\n",
       "  font-size: 30pt;\n",
       "  /* font-size: 50pt */\n",
       "  line-height: 100%;\n",
       "  color:#0B132B;\n",
       "  margin-bottom: 0.5em;\n",
       "  margin-top: 0.5em;\n",
       "  display: block;\n",
       "}\n",
       "\n",
       ".text_cell_render h2{\n",
       "  font-weight: 500;\n",
       "}\n",
       "\n",
       ".text_cell_render h3{\n",
       "  font-weight: 500;\n",
       "}\n",
       "\n",
       "\n",
       ".warning{\n",
       "  color: rgb( 240, 20, 20 )\n",
       "}\n",
       "\n",
       "div.warn {\n",
       "  background-color: #FF5A5F;\n",
       "  border-color: #FF5A5F;\n",
       "  border-left: 5px solid #C81D25;\n",
       "  padding: 0.5em;\n",
       "\n",
       "  color: #fff;\n",
       "  opacity: 0.8;\n",
       "}\n",
       "\n",
       "div.info {\n",
       "  background-color: #087E8B;\n",
       "  border-color: #087E8B;\n",
       "  border-left: 5px solid #0B3954;\n",
       "  padding: 0.5em;\n",
       "  color: #fff;\n",
       "  opacity: 0.8;\n",
       "}\n",
       "\n",
       "</style>\n",
       "<script>\n",
       "MathJax.Hub.Config({\n",
       "  TeX: {\n",
       "    extensions: [\"AMSmath.js\"]\n",
       "    },\n",
       "    tex2jax: {\n",
       "      inlineMath: [ ['$','$'], [\"\\\\(\",\"\\\\)\"] ],\n",
       "      displayMath: [ ['$$','$$'], [\"\\\\[\",\"\\\\]\"] ]\n",
       "      },\n",
       "      displayAlign: 'center', // Change this to 'center' to center equations.\n",
       "      \"HTML-CSS\": {\n",
       "        styles: {'.MathJax_Display': {\"margin\": 4}}\n",
       "      }\n",
       "      });\n",
       "      </script>\n"
      ],
      "text/plain": [
       "<IPython.core.display.HTML object>"
      ]
     },
     "execution_count": 1,
     "metadata": {},
     "output_type": "execute_result"
    }
   ],
   "source": [
    "from IPython.core.display import HTML\n",
    "\n",
    "\n",
    "def css_styling():\n",
    "    styles = open(\"styles/custom.css\", \"r\").read()\n",
    "    return HTML(styles)\n",
    "css_styling()"
   ]
  }
 ],
 "metadata": {
  "kernelspec": {
   "display_name": "Python 3",
   "language": "python",
   "name": "python3"
  },
  "language_info": {
   "codemirror_mode": {
    "name": "ipython",
    "version": 3
   },
   "file_extension": ".py",
   "mimetype": "text/x-python",
   "name": "python",
   "nbconvert_exporter": "python",
   "pygments_lexer": "ipython3",
   "version": "3.6.4"
  }
 },
 "nbformat": 4,
 "nbformat_minor": 2
}
