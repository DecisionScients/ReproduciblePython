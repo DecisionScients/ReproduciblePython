{
 "cells": [
  {
   "cell_type": "markdown",
   "metadata": {},
   "source": [
    "# Raw data are **sacrosanct**\n",
    "\n",
    "<blockquote class=\"twitter-tweet\" data-lang=\"en-gb\"><p lang=\"en\" dir=\"ltr\"><a href=\"https://twitter.com/tomjwebb?ref_src=twsrc%5Etfw\">@tomjwebb</a> don&#39;t, not even with a barge pole, not for one second, touch or otherwise edit the raw data files. Do any manipulations in script</p>&mdash; Gavin Simpson (@ucfagls) <a href=\"https://twitter.com/ucfagls/status/556107371634634755?ref_src=twsrc%5Etfw\">16 January 2015</a></blockquote> <script async src=\"https://platform.twitter.com/widgets.js\" charset=\"utf-8\"></script> \n"
   ]
  },
  {
   "cell_type": "markdown",
   "metadata": {
    "slideshow": {
     "slide_type": "slide"
    }
   },
   "source": [
    "# Getting started with your data \n",
    "\n",
    "### Should I version control my raw data?\n",
    "<div class='info'> The raw data *should* never change. All of the processing or data wrangling must be done in copies of your raw data. </div>\n",
    "\n",
    "<br>\n",
    "However, it is important to consider how you are going to share your data. The [best practices for sharing data on the Web summary](https://www.w3.org/TR/dwbp/#bp-summary) is a good place to get started.\n",
    "\n",
    "You can also explore alternatives like [git annex](https://git-annex.branchable.com/) and [Datalad](http://datalad.org/) to version control your data, or [FigShare](https://figshare.com/) to share your data.\n"
   ]
  },
  {
   "cell_type": "markdown",
   "metadata": {
    "slideshow": {
     "slide_type": "subslide"
    }
   },
   "source": [
    "# Adding raw data\n",
    "\n",
    "We will be using the Kaggle [wine review](https://www.kaggle.com/residentmario/renaming-combining-data/data) dataset.\n",
    "The first step is to download the data and store it in our `data/raw` directory.\n",
    "\n",
    "You should have a copy of the datasets that we will be using already if you followed the installation instructions. \n",
    "\n",
    "Otherwise you can get a copy at [https://drive.google.com/drive/u/1/folders/1b2B0KWS0UAVQqFgzx2R2qMNeiiB98lMe?usp=sharing](https://drive.google.com/drive/u/1/folders/1b2B0KWS0UAVQqFgzx2R2qMNeiiB98lMe?usp=sharing)"
   ]
  },
  {
   "cell_type": "markdown",
   "metadata": {},
   "source": [
    "# You got data... is it enough? Data without documentation has no value\n",
    "### metadata = data about data \n",
    "\n",
    "Information that describes, explains, locates or makes it easier\n",
    "to <strong>find, access, and use</strong> a resource\n",
    "\n",
    "<img src=\"assets/meta.jpg\" alt=\"metadata\" width='300px'>\n",
    "<img src=\"assets/metadata.png\" alt=\"metadata\" >"
   ]
  },
  {
   "cell_type": "markdown",
   "metadata": {
    "slideshow": {
     "slide_type": "subslide"
    }
   },
   "source": [
    "## Adding metadata\n",
    "\n",
    "You want to make sure that all your data has information describing how you got the data, the meaning of the columns, date of last access, data version, etc. \n",
    "\n",
    "For your own use make sure to create at least a `README.txt` file describing the data as best as you can.\n",
    "\n",
    "Create a README.txt ( or .md) file inside the data directory and add the following content or something similar.\n",
    "\n",
    "```\n",
    "Data collected from Kaggle winemag reviews\n",
    "https://www.kaggle.com/residentmario/renaming-combining-data/data\n",
    "\n",
    "Collected on 09/05/2018 by Tania Allard\n",
    "```\n",
    "\n",
    "\n",
    "Commit both the `README` and the data to the repository."
   ]
  },
  {
   "cell_type": "markdown",
   "metadata": {},
   "source": [
    "<h1> Diving deeper into metadada </h1>\n",
    "\n",
    "What would someone outside your research project (or you in 5 years time) need to know about your data to build on your work.\n",
    "\n",
    "<table>\n",
    "    <tr>\n",
    "        <th>What</th>\n",
    "        <th>Such as..</th>\n",
    "    </tr>\n",
    "<tr>\n",
    "<td>What is the title of the dataset?</td>\n",
    "    <td>The regulation of emotions in adolescents: age differences\n",
    "        and emotion-specific patterns</td>\n",
    "</tr>\n",
    " <tr>\n",
    "    <td>Are there any related publications or data sets?</td>\n",
    "    <td>Theurel A, Gentaz E (2018) The regulation of emotions in\n",
    "        adolescents: age differences and emotion-specific patterns.\n",
    "        PLOS ONE 13(6): e0195501. <a href=\"https://doi.org/10.1371/journal.pone.0195501\">\n",
    "        https://doi.org/10.1371/journal.pone.0195501</a> </td>\n",
    " </tr>\n",
    "</table>\n",
    "\n",
    "<table>\n",
    "<tr>\n",
    "    <th>Where</th>\n",
    "    <th>Such as..</th>\n",
    "</tr>\n",
    "<tr>\n",
    "<td>Where was the data collected?</td>\n",
    "<td>France, Rhones Alpes</td>\n",
    "</tr>\n",
    "<tr>\n",
    "<td>Where does the data live?</td>\n",
    "<td>Theurel A, Gentaz E (2018) Data from: The regulation of emotions\n",
    "    in adolescents: age differences and emotion-specific patterns.\n",
    "    Dryad Digital Repository. <a href=\"https://doi.org/10.5061/dryad.n230404\">\n",
    "    https://doi.org/10.5061/dryad.n230404</a> </td>\n",
    "</tr>\n",
    "</table>\n",
    "\n",
    "<table>\n",
    "     <tr>\n",
    "         <th>Who</th>\n",
    "         <th>Such as..</th>\n",
    "     </tr>\n",
    "    <tr>\n",
    "     <td>Who is responsible for the data?</td>\n",
    "     <td>Dr Theurel, Anne</td>\n",
    "    </tr>\n",
    "    <th>When</th>\n",
    "    <th>Such as..</th>\n",
    "    <tr>\n",
    "        <td>Was the data collected? What time span does the data cover?\t</td>\n",
    "        <td>Collected: June 2015. Data coverage: 1932-1944</td>\n",
    "    </tr>\n",
    "</table>"
   ]
  },
  {
   "cell_type": "markdown",
   "metadata": {},
   "source": [
    "Additional resources on schemas and metadata:\n",
    "- [https://guides.lib.unc.edu/c.php?g=8749&p=44504](https://guides.lib.unc.edu/c.php?g=8749&p=44504)\n",
    "- [https://www.lib.ncsu.edu/data-management/metadata#best]*https://www.lib.ncsu.edu/data-management/metadata#best)\n",
    "- [http://mozillascience.github.io/checklist/](http://mozillascience.github.io/checklist/)\n"
   ]
  },
  {
   "cell_type": "markdown",
   "metadata": {},
   "source": [
    "We are now going to use the [datapackage](https://github.com/frictionlessdata/datapackage-py) package to create some metadata for our dataset.\n",
    "\n",
    "Let's first remember how the data looks like:"
   ]
  },
  {
   "cell_type": "code",
   "execution_count": 1,
   "metadata": {},
   "outputs": [
    {
     "data": {
      "text/html": [
       "<div>\n",
       "<style scoped>\n",
       "    .dataframe tbody tr th:only-of-type {\n",
       "        vertical-align: middle;\n",
       "    }\n",
       "\n",
       "    .dataframe tbody tr th {\n",
       "        vertical-align: top;\n",
       "    }\n",
       "\n",
       "    .dataframe thead th {\n",
       "        text-align: right;\n",
       "    }\n",
       "</style>\n",
       "<table border=\"1\" class=\"dataframe\">\n",
       "  <thead>\n",
       "    <tr style=\"text-align: right;\">\n",
       "      <th></th>\n",
       "      <th>country</th>\n",
       "      <th>description</th>\n",
       "      <th>designation</th>\n",
       "      <th>points</th>\n",
       "      <th>price</th>\n",
       "      <th>province</th>\n",
       "      <th>region_1</th>\n",
       "      <th>region_2</th>\n",
       "      <th>taster_name</th>\n",
       "      <th>taster_twitter_handle</th>\n",
       "      <th>title</th>\n",
       "      <th>variety</th>\n",
       "      <th>winery</th>\n",
       "    </tr>\n",
       "  </thead>\n",
       "  <tbody>\n",
       "    <tr>\n",
       "      <th>0</th>\n",
       "      <td>Italy</td>\n",
       "      <td>Aromas include tropical fruit, broom, brimston...</td>\n",
       "      <td>Vulkà Bianco</td>\n",
       "      <td>87</td>\n",
       "      <td>NaN</td>\n",
       "      <td>Sicily &amp; Sardinia</td>\n",
       "      <td>Etna</td>\n",
       "      <td>NaN</td>\n",
       "      <td>Kerin O’Keefe</td>\n",
       "      <td>@kerinokeefe</td>\n",
       "      <td>Nicosia 2013 Vulkà Bianco  (Etna)</td>\n",
       "      <td>White Blend</td>\n",
       "      <td>Nicosia</td>\n",
       "    </tr>\n",
       "    <tr>\n",
       "      <th>1</th>\n",
       "      <td>Portugal</td>\n",
       "      <td>This is ripe and fruity, a wine that is smooth...</td>\n",
       "      <td>Avidagos</td>\n",
       "      <td>87</td>\n",
       "      <td>15.0</td>\n",
       "      <td>Douro</td>\n",
       "      <td>NaN</td>\n",
       "      <td>NaN</td>\n",
       "      <td>Roger Voss</td>\n",
       "      <td>@vossroger</td>\n",
       "      <td>Quinta dos Avidagos 2011 Avidagos Red (Douro)</td>\n",
       "      <td>Portuguese Red</td>\n",
       "      <td>Quinta dos Avidagos</td>\n",
       "    </tr>\n",
       "    <tr>\n",
       "      <th>2</th>\n",
       "      <td>US</td>\n",
       "      <td>Tart and snappy, the flavors of lime flesh and...</td>\n",
       "      <td>NaN</td>\n",
       "      <td>87</td>\n",
       "      <td>14.0</td>\n",
       "      <td>Oregon</td>\n",
       "      <td>Willamette Valley</td>\n",
       "      <td>Willamette Valley</td>\n",
       "      <td>Paul Gregutt</td>\n",
       "      <td>@paulgwine</td>\n",
       "      <td>Rainstorm 2013 Pinot Gris (Willamette Valley)</td>\n",
       "      <td>Pinot Gris</td>\n",
       "      <td>Rainstorm</td>\n",
       "    </tr>\n",
       "    <tr>\n",
       "      <th>3</th>\n",
       "      <td>US</td>\n",
       "      <td>Pineapple rind, lemon pith and orange blossom ...</td>\n",
       "      <td>Reserve Late Harvest</td>\n",
       "      <td>87</td>\n",
       "      <td>13.0</td>\n",
       "      <td>Michigan</td>\n",
       "      <td>Lake Michigan Shore</td>\n",
       "      <td>NaN</td>\n",
       "      <td>Alexander Peartree</td>\n",
       "      <td>NaN</td>\n",
       "      <td>St. Julian 2013 Reserve Late Harvest Riesling ...</td>\n",
       "      <td>Riesling</td>\n",
       "      <td>St. Julian</td>\n",
       "    </tr>\n",
       "    <tr>\n",
       "      <th>4</th>\n",
       "      <td>US</td>\n",
       "      <td>Much like the regular bottling from 2012, this...</td>\n",
       "      <td>Vintner's Reserve Wild Child Block</td>\n",
       "      <td>87</td>\n",
       "      <td>65.0</td>\n",
       "      <td>Oregon</td>\n",
       "      <td>Willamette Valley</td>\n",
       "      <td>Willamette Valley</td>\n",
       "      <td>Paul Gregutt</td>\n",
       "      <td>@paulgwine</td>\n",
       "      <td>Sweet Cheeks 2012 Vintner's Reserve Wild Child...</td>\n",
       "      <td>Pinot Noir</td>\n",
       "      <td>Sweet Cheeks</td>\n",
       "    </tr>\n",
       "  </tbody>\n",
       "</table>\n",
       "</div>"
      ],
      "text/plain": [
       "    country                                        description  \\\n",
       "0     Italy  Aromas include tropical fruit, broom, brimston...   \n",
       "1  Portugal  This is ripe and fruity, a wine that is smooth...   \n",
       "2        US  Tart and snappy, the flavors of lime flesh and...   \n",
       "3        US  Pineapple rind, lemon pith and orange blossom ...   \n",
       "4        US  Much like the regular bottling from 2012, this...   \n",
       "\n",
       "                          designation  points  price           province  \\\n",
       "0                        Vulkà Bianco      87    NaN  Sicily & Sardinia   \n",
       "1                            Avidagos      87   15.0              Douro   \n",
       "2                                 NaN      87   14.0             Oregon   \n",
       "3                Reserve Late Harvest      87   13.0           Michigan   \n",
       "4  Vintner's Reserve Wild Child Block      87   65.0             Oregon   \n",
       "\n",
       "              region_1           region_2         taster_name  \\\n",
       "0                 Etna                NaN       Kerin O’Keefe   \n",
       "1                  NaN                NaN          Roger Voss   \n",
       "2    Willamette Valley  Willamette Valley        Paul Gregutt   \n",
       "3  Lake Michigan Shore                NaN  Alexander Peartree   \n",
       "4    Willamette Valley  Willamette Valley        Paul Gregutt   \n",
       "\n",
       "  taster_twitter_handle                                              title  \\\n",
       "0          @kerinokeefe                  Nicosia 2013 Vulkà Bianco  (Etna)   \n",
       "1            @vossroger      Quinta dos Avidagos 2011 Avidagos Red (Douro)   \n",
       "2           @paulgwine       Rainstorm 2013 Pinot Gris (Willamette Valley)   \n",
       "3                   NaN  St. Julian 2013 Reserve Late Harvest Riesling ...   \n",
       "4           @paulgwine   Sweet Cheeks 2012 Vintner's Reserve Wild Child...   \n",
       "\n",
       "          variety               winery  \n",
       "0     White Blend              Nicosia  \n",
       "1  Portuguese Red  Quinta dos Avidagos  \n",
       "2      Pinot Gris            Rainstorm  \n",
       "3        Riesling           St. Julian  \n",
       "4      Pinot Noir         Sweet Cheeks  "
      ]
     },
     "execution_count": 1,
     "metadata": {},
     "output_type": "execute_result"
    }
   ],
   "source": [
    "import pandas as pd\n",
    "wine = pd.read_csv('solutions/data/raw/winemag-data-130k-v2.csv', index_col=0)\n",
    "wine.head()"
   ]
  },
  {
   "cell_type": "markdown",
   "metadata": {},
   "source": [
    "The `datapackage` allows you to work with data packages, so we start by creating a blank data package like so:"
   ]
  },
  {
   "cell_type": "code",
   "execution_count": 2,
   "metadata": {},
   "outputs": [],
   "source": [
    "import datapackage\n",
    "package = datapackage.Package()"
   ]
  },
  {
   "cell_type": "markdown",
   "metadata": {},
   "source": [
    "We can now add useful metadata by addding keys to the metadata attribute dictionary. We will start by adding the `name` key and the human-readable `title` key. For a list of the keys supported check the [DataPackage spec](https://frictionlessdata.io/specs/data-package/#metadata)"
   ]
  },
  {
   "cell_type": "code",
   "execution_count": 3,
   "metadata": {},
   "outputs": [
    {
     "data": {
      "text/plain": [
       "{'profile': 'data-package',\n",
       " 'name': 'winemag-reviews',\n",
       " 'title': 'Winemag wine reviews dataset'}"
      ]
     },
     "execution_count": 3,
     "metadata": {},
     "output_type": "execute_result"
    }
   ],
   "source": [
    "package.descriptor['name'] = 'winemag-reviews'\n",
    "package.descriptor['title'] = 'Winemag wine reviews dataset'\n",
    "package.descriptor"
   ]
  },
  {
   "cell_type": "markdown",
   "metadata": {},
   "source": [
    "## Inferring the data schema\n",
    "The next ste would then be to infer the data schema and generate additional metadata from our datasets"
   ]
  },
  {
   "cell_type": "code",
   "execution_count": 4,
   "metadata": {},
   "outputs": [],
   "source": [
    "# Some path manipulation might be needed... \n",
    "import pathlib\n",
    "import os "
   ]
  },
  {
   "cell_type": "code",
   "execution_count": 5,
   "metadata": {},
   "outputs": [
    {
     "data": {
      "text/plain": [
       "{'profile': 'tabular-data-package',\n",
       " 'resources': [{'path': 'solutions/data/chile.csv',\n",
       "   'profile': 'tabular-data-resource',\n",
       "   'name': 'chile',\n",
       "   'format': 'csv',\n",
       "   'mediatype': 'text/csv',\n",
       "   'encoding': 'windows-1252',\n",
       "   'schema': {'fields': [{'name': 'country',\n",
       "      'type': 'string',\n",
       "      'format': 'default'},\n",
       "     {'name': 'designation', 'type': 'string', 'format': 'default'},\n",
       "     {'name': 'points', 'type': 'integer', 'format': 'default'},\n",
       "     {'name': 'price', 'type': 'number', 'format': 'default'},\n",
       "     {'name': 'price_GBP', 'type': 'number', 'format': 'default'}],\n",
       "    'missingValues': ['']}},\n",
       "  {'path': 'solutions/data/raw/winemag-data-130k-v2.csv',\n",
       "   'profile': 'tabular-data-resource',\n",
       "   'name': 'winemag-data-130k-v2',\n",
       "   'format': 'csv',\n",
       "   'mediatype': 'text/csv',\n",
       "   'encoding': 'utf-8',\n",
       "   'schema': {'fields': [{'name': '', 'type': 'integer', 'format': 'default'},\n",
       "     {'name': 'country', 'type': 'string', 'format': 'default'},\n",
       "     {'name': 'description', 'type': 'string', 'format': 'default'},\n",
       "     {'name': 'designation', 'type': 'string', 'format': 'default'},\n",
       "     {'name': 'points', 'type': 'integer', 'format': 'default'},\n",
       "     {'name': 'price', 'type': 'number', 'format': 'default'},\n",
       "     {'name': 'province', 'type': 'string', 'format': 'default'},\n",
       "     {'name': 'region_1', 'type': 'string', 'format': 'default'},\n",
       "     {'name': 'region_2', 'type': 'string', 'format': 'default'},\n",
       "     {'name': 'taster_name', 'type': 'string', 'format': 'default'},\n",
       "     {'name': 'taster_twitter_handle', 'type': 'string', 'format': 'default'},\n",
       "     {'name': 'title', 'type': 'string', 'format': 'default'},\n",
       "     {'name': 'variety', 'type': 'string', 'format': 'default'},\n",
       "     {'name': 'winery', 'type': 'string', 'format': 'default'}],\n",
       "    'missingValues': ['']}}]}"
      ]
     },
     "execution_count": 5,
     "metadata": {},
     "output_type": "execute_result"
    }
   ],
   "source": [
    "package.infer('./solutions/data/**/*.csv')"
   ]
  },
  {
   "cell_type": "code",
   "execution_count": 8,
   "metadata": {},
   "outputs": [
    {
     "data": {
      "text/plain": [
       "2"
      ]
     },
     "execution_count": 8,
     "metadata": {},
     "output_type": "execute_result"
    }
   ],
   "source": [
    "len(package.resources)"
   ]
  },
  {
   "cell_type": "markdown",
   "metadata": {},
   "source": [
    "The `infer` method has found all our files and inspected it to extract useful metadata like profile, encoding, format, Table Schema etc. Let's have a look at the resource:"
   ]
  },
  {
   "cell_type": "code",
   "execution_count": 10,
   "metadata": {},
   "outputs": [
    {
     "data": {
      "text/plain": [
       "{'path': 'solutions/data/raw/winemag-data-130k-v2.csv',\n",
       " 'profile': 'tabular-data-resource',\n",
       " 'name': 'winemag-data-130k-v2',\n",
       " 'format': 'csv',\n",
       " 'mediatype': 'text/csv',\n",
       " 'encoding': 'utf-8',\n",
       " 'schema': {'fields': [{'name': '', 'type': 'integer', 'format': 'default'},\n",
       "   {'name': 'country', 'type': 'string', 'format': 'default'},\n",
       "   {'name': 'description', 'type': 'string', 'format': 'default'},\n",
       "   {'name': 'designation', 'type': 'string', 'format': 'default'},\n",
       "   {'name': 'points', 'type': 'integer', 'format': 'default'},\n",
       "   {'name': 'price', 'type': 'number', 'format': 'default'},\n",
       "   {'name': 'province', 'type': 'string', 'format': 'default'},\n",
       "   {'name': 'region_1', 'type': 'string', 'format': 'default'},\n",
       "   {'name': 'region_2', 'type': 'string', 'format': 'default'},\n",
       "   {'name': 'taster_name', 'type': 'string', 'format': 'default'},\n",
       "   {'name': 'taster_twitter_handle', 'type': 'string', 'format': 'default'},\n",
       "   {'name': 'title', 'type': 'string', 'format': 'default'},\n",
       "   {'name': 'variety', 'type': 'string', 'format': 'default'},\n",
       "   {'name': 'winery', 'type': 'string', 'format': 'default'}],\n",
       "  'missingValues': ['']}}"
      ]
     },
     "execution_count": 10,
     "metadata": {},
     "output_type": "execute_result"
    }
   ],
   "source": [
    "package.descriptor['resources'][1]"
   ]
  },
  {
   "cell_type": "markdown",
   "metadata": {},
   "source": [
    "We might want to give this a better name:"
   ]
  },
  {
   "cell_type": "code",
   "execution_count": 19,
   "metadata": {},
   "outputs": [
    {
     "data": {
      "text/plain": [
       "{'path': 'solutions/data/raw/winemag-data-130k-v2.csv',\n",
       " 'profile': 'tabular-data-resource',\n",
       " 'name': 'winemag-reviews',\n",
       " 'format': 'csv',\n",
       " 'mediatype': 'text/csv',\n",
       " 'encoding': 'utf-8',\n",
       " 'schema': {'fields': [{'name': '', 'type': 'integer', 'format': 'default'},\n",
       "   {'name': 'country', 'type': 'string', 'format': 'default'},\n",
       "   {'name': 'description', 'type': 'string', 'format': 'default'},\n",
       "   {'name': 'designation', 'type': 'string', 'format': 'default'},\n",
       "   {'name': 'points', 'type': 'integer', 'format': 'default'},\n",
       "   {'name': 'price', 'type': 'number', 'format': 'default'},\n",
       "   {'name': 'province', 'type': 'string', 'format': 'default'},\n",
       "   {'name': 'region_1', 'type': 'string', 'format': 'default'},\n",
       "   {'name': 'region_2', 'type': 'string', 'format': 'default'},\n",
       "   {'name': 'taster_name', 'type': 'string', 'format': 'default'},\n",
       "   {'name': 'taster_twitter_handle', 'type': 'string', 'format': 'default'},\n",
       "   {'name': 'title', 'type': 'string', 'format': 'default'},\n",
       "   {'name': 'variety', 'type': 'string', 'format': 'default'},\n",
       "   {'name': 'winery', 'type': 'string', 'format': 'default'}],\n",
       "  'missingValues': ['']}}"
      ]
     },
     "execution_count": 19,
     "metadata": {},
     "output_type": "execute_result"
    }
   ],
   "source": [
    "package.descriptor['resources'][1]['name'] = 'winemag-reviews'\n",
    "package.descriptor['resources'][1]"
   ]
  },
  {
   "cell_type": "markdown",
   "metadata": {},
   "source": [
    "Because our resources are tabular we could read it as a tabular data:"
   ]
  },
  {
   "cell_type": "code",
   "execution_count": null,
   "metadata": {},
   "outputs": [],
   "source": [
    "package.get_resource('chile').read(keyed=True)"
   ]
  },
  {
   "cell_type": "markdown",
   "metadata": {},
   "source": [
    "We can now save the contents of the descriptor into a `.json` file and a zip file. Every resource which content lives in the local filesystem will be copied to the zip file.\n",
    "The final structure of the zip file will be:\n",
    "```\n",
    "./datapackage.json\n",
    "./data/local.csv\n",
    "```"
   ]
  },
  {
   "cell_type": "code",
   "execution_count": 15,
   "metadata": {},
   "outputs": [
    {
     "data": {
      "text/plain": [
       "True"
      ]
     },
     "execution_count": 15,
     "metadata": {},
     "output_type": "execute_result"
    }
   ],
   "source": [
    "package.save('solutions/data/datapackage.json')"
   ]
  },
  {
   "cell_type": "code",
   "execution_count": 16,
   "metadata": {},
   "outputs": [
    {
     "data": {
      "text/plain": [
       "True"
      ]
     },
     "execution_count": 16,
     "metadata": {},
     "output_type": "execute_result"
    }
   ],
   "source": [
    "package.save('solutions/data/datapackage.zip')"
   ]
  },
  {
   "cell_type": "markdown",
   "metadata": {},
   "source": [
    "If you want to learn more about the `datapackage` package visit the GitHub repository [https://github.com/frictionlessdata/datapackage-py](https://github.com/frictionlessdata/datapackage-py)"
   ]
  },
  {
   "cell_type": "code",
   "execution_count": 2,
   "metadata": {},
   "outputs": [
    {
     "data": {
      "text/html": [
       "<link href=\"https://fonts.googleapis.com/css?family=Didact+Gothic|Dosis:400,500,700\" rel=\"stylesheet\"><style>\n",
       "@font-face {\n",
       "  font-family: \"Computer Modern\";\n",
       "  src: url('http://mirrors.ctan.org/fonts/cm-unicode/fonts/otf/cmunss.otf');\n",
       "}\n",
       "/* div.cell{\n",
       "width:800px;\n",
       "margin-left:16% !important;\n",
       "margin-right:auto;\n",
       "} */\n",
       "h1 {\n",
       "  font-family: 'Dosis', \"Helvetica Neue\", Arial, sans-serif;\n",
       "  color: #0B132B;\n",
       "}\n",
       "h2 {\n",
       "  font-family: 'Dosis', sans-serif;\n",
       "  color: #1C2541;\n",
       "}\n",
       "h3{\n",
       "  font-family: 'Dosis', sans-serif;\n",
       "  margin-top:12px;\n",
       "  margin-bottom: 3px;\n",
       "  color: #40a8a6;\n",
       "}\n",
       "h4{\n",
       "  font-family: 'Dosis', sans-serif;\n",
       "  color: #40a8a6;\n",
       "}\n",
       "h5 {\n",
       "  font-family: 'Dosis', sans-serif;\n",
       "  color: #40a8a6;\n",
       "}\n",
       "div.text_cell_render{\n",
       "  font-family: 'Didact Gothic',Computer Modern, \"Helvetica Neue\", Arial, Helvetica,\n",
       "  Geneva, sans-serif;\n",
       "  line-height: 130%;\n",
       "  font-size: 110%;\n",
       "  /* width:600px; */\n",
       "  /* margin-left:auto;\n",
       "  margin-right:auto; */\n",
       "}\n",
       "\n",
       ".text_cell_render h1 {\n",
       "  font-weight: 200;\n",
       "  font-size: 30pt;\n",
       "  /* font-size: 50pt */\n",
       "  line-height: 100%;\n",
       "  color:#0B132B;\n",
       "  margin-bottom: 0.5em;\n",
       "  margin-top: 0.5em;\n",
       "  display: block;\n",
       "}\n",
       "\n",
       ".text_cell_render h2{\n",
       "  font-weight: 500;\n",
       "}\n",
       "\n",
       ".text_cell_render h3{\n",
       "  font-weight: 500;\n",
       "}\n",
       "\n",
       "\n",
       ".warning{\n",
       "  color: rgb( 240, 20, 20 )\n",
       "}\n",
       "\n",
       "div.warn {\n",
       "  background-color: #FF5A5F;\n",
       "  border-color: #FF5A5F;\n",
       "  border-left: 5px solid #C81D25;\n",
       "  padding: 0.5em;\n",
       "\n",
       "  color: #fff;\n",
       "  opacity: 0.8;\n",
       "}\n",
       "\n",
       "div.info {\n",
       "  background-color: #087E8B;\n",
       "  border-color: #087E8B;\n",
       "  border-left: 5px solid #0B3954;\n",
       "  padding: 0.5em;\n",
       "  color: #fff;\n",
       "  opacity: 0.8;\n",
       "}\n",
       "\n",
       "</style>\n",
       "<script>\n",
       "MathJax.Hub.Config({\n",
       "  TeX: {\n",
       "    extensions: [\"AMSmath.js\"]\n",
       "    },\n",
       "    tex2jax: {\n",
       "      inlineMath: [ ['$','$'], [\"\\\\(\",\"\\\\)\"] ],\n",
       "      displayMath: [ ['$$','$$'], [\"\\\\[\",\"\\\\]\"] ]\n",
       "      },\n",
       "      displayAlign: 'center', // Change this to 'center' to center equations.\n",
       "      \"HTML-CSS\": {\n",
       "        styles: {'.MathJax_Display': {\"margin\": 4}}\n",
       "      }\n",
       "      });\n",
       "      </script>\n"
      ],
      "text/plain": [
       "<IPython.core.display.HTML object>"
      ]
     },
     "execution_count": 2,
     "metadata": {},
     "output_type": "execute_result"
    }
   ],
   "source": [
    "from IPython.core.display import HTML\n",
    "\n",
    "\n",
    "def css_styling():\n",
    "    styles = open(\"styles/custom.css\", \"r\").read()\n",
    "    return HTML(styles)\n",
    "css_styling()"
   ]
  }
 ],
 "metadata": {
  "kernelspec": {
   "display_name": "Python 3",
   "language": "python",
   "name": "python3"
  },
  "language_info": {
   "codemirror_mode": {
    "name": "ipython",
    "version": 3
   },
   "file_extension": ".py",
   "mimetype": "text/x-python",
   "name": "python",
   "nbconvert_exporter": "python",
   "pygments_lexer": "ipython3",
   "version": "3.6.5"
  }
 },
 "nbformat": 4,
 "nbformat_minor": 2
}
