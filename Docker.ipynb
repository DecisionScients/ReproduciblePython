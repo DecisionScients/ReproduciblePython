{
 "cells": [
  {
   "cell_type": "markdown",
   "metadata": {},
   "source": [
    "# Containers"
   ]
  },
  {
   "cell_type": "markdown",
   "metadata": {},
   "source": [
    "### What are the goals of containers?\n",
    "\n",
    "- Isolate full computing environments (not only Python packages)\n",
    "- Provide a mechanism to encapsulate environments in a self-contained unit that can run anywhere"
   ]
  },
  {
   "cell_type": "markdown",
   "metadata": {},
   "source": [
    "### Why do we need containers?\n",
    "- Science Reproducibility \n",
    "- Collaboration with your colleagues\n",
    "- Installing new software without fear of breaking you environment."
   ]
  },
  {
   "cell_type": "markdown",
   "metadata": {},
   "source": [
    "### Difference between Virtual Machines and Containers\n",
    "The main idea is the same &ndash; isolate the computing environment, but they differ.\n",
    "\n",
    "- Virtual Machine:\n",
    "    - emulate whole computer system (software+hardware)\n",
    "    - run on top of a physical machine using a hypervisor\n",
    "    - hypervisor shares and manages hardware of the host and executes the guest operating system\n",
    "    - guest machines are completely isolated and have dedicated resources\n",
    "\n",
    "<img src=\"assets/VM.png\" alt=\"metadata\" width='300px'>\n",
    "\n",
    "- Containers (Docker)\n",
    "    - share the host system’s kernel with other containers\n",
    "    - each container gets its own isolated user space\n",
    "    - only bins and libs are created from scratch\n",
    "    - **containers are very lightweight and fast to start up**\n",
    "    \n",
    "<img src=\"assets/Container.png\" alt=\"metadata\" width='300px'>\n",
    "\n",
    "You can find more on:\n",
    " - [Docker website](https://www.docker.com/what-container)\n",
    " - [Beginner friendly intro to VMs and Docker](https://medium.freecodecamp.org/a-beginner-friendly-introduction-to-containers-vms-and-docker-79a9e3e119b)\n"
   ]
  },
  {
   "cell_type": "markdown",
   "metadata": {},
   "source": [
    "# [Docker](docker.com)\n",
    "- leading software container platform\n",
    "- an open-source project\n",
    "- it runs now on Mac OS X and Windows (Pro versions) without VM"
   ]
  },
  {
   "cell_type": "markdown",
   "metadata": {},
   "source": [
    "### Using Docker\n",
    "- you can use existing Docker images, many public images can be found on [Docker Hub](https://hub.docker.com/)\n",
    "    - example of running existing images can be found [here](http://nipy.org/workshops/2017-03-boston/lectures/lesson-container/#29)\n",
    "- you can create your own images by writing `Dockerfile`\n",
    "    - the simplest examples you can find [here](http://nipy.org/workshops/2017-03-boston/lectures/lesson-container/#31)\n",
    "    - [Dockerfile official reference](https://docs.docker.com/engine/reference/builder/#from)"
   ]
  },
  {
   "cell_type": "markdown",
   "metadata": {},
   "source": [
    "### Docker and Singularity\n",
    "- Docker:\n",
    "    - docker can escalate privileges, so you can be effectively treated as a root on the host system\n",
    "    - this is usually not supported by administrators from HPC centers\n",
    "- [Singularity](http://singularity.lbl.gov/):\n",
    "    - a container solution created for scientific and application driven workloads\n",
    "    - supports existing and traditional HPC resources\n",
    "    - a user inside a Singularity container is the same user as outside the container\n",
    "    - but you can use Vagrant to create a container (you have root privileges on your VM!)\n",
    "    - can run (and modify!) existing Docker containers\n",
    "    - running VM is required on OSX and Windows\n",
    "\n"
   ]
  },
  {
   "cell_type": "markdown",
   "metadata": {},
   "source": [
    "## Creating Docker containers using repo2docker\n",
    "\n",
    "The package [repo2docker](http://repo2docker.readthedocs.io/en/latest/usage.html#running-repo2docker-locally) allows you to generate a Docker container from a repository (e.g. GitHub). \n",
    "\n",
    "To get started you need to make sure you have any of the following files:\n",
    "- Dockerfile\n",
    "- environment.yml\n",
    "- requirements.yml\n",
    "- REQUIRE (Julia packages, plus it needs an environment.yml as well)\n",
    "- postBuild\n"
   ]
  },
  {
   "cell_type": "markdown",
   "metadata": {},
   "source": [
    "If you followed along the course you should now have a conda environment file `environment.yml`:\n",
    "\n",
    "```yaml\n",
    "name: testenv\n",
    "channels:\n",
    "  - conda-forge\n",
    "  - defaults\n",
    "dependencies:\n",
    "  - python>3.6\n",
    "  - pytest\n",
    "  - pandas\n",
    "  - matplotlib\n",
    "  - pip:\n",
    "    - nbval\n",
    "```\n"
   ]
  },
  {
   "cell_type": "markdown",
   "metadata": {},
   "source": [
    "### Getting Dockerized\n",
    "\n",
    "<div class = 'info'> You need to have Docker working in your computer before proceeding </div>\n",
    "\n",
    "`repo2docker` follows the next two steps:\n",
    "1. Builds a Docker image from a git repo\n",
    "2. Runs a Jupyter server within the image (so you can explore the repository's content)\n",
    "\n",
    "From your command line type:\n",
    "```bash\n",
    "$ jupyter-repo2docker <url to the repository>\n",
    "```\n",
    "\n",
    "The process might take a while, and once completed you should see message like this in your terminal\n",
    "```bash\n",
    "Copy/paste this URL into your browser when you connect for the first time,\n",
    "to login with a token:\n",
    "    http://0.0.0.0:36511/?token=f94f8fabb92e22f5bfab116c382b4707fc2cade56ad1ace0\n",
    "```"
   ]
  },
  {
   "cell_type": "code",
   "execution_count": 1,
   "metadata": {},
   "outputs": [
    {
     "data": {
      "text/html": [
       "<link href=\"https://fonts.googleapis.com/css?family=Didact+Gothic|Dosis:400,500,700\" rel=\"stylesheet\"><style>\n",
       "@font-face {\n",
       "  font-family: \"Computer Modern\";\n",
       "  src: url('http://mirrors.ctan.org/fonts/cm-unicode/fonts/otf/cmunss.otf');\n",
       "}\n",
       "/* div.cell{\n",
       "width:800px;\n",
       "margin-left:16% !important;\n",
       "margin-right:auto;\n",
       "} */\n",
       "h1 {\n",
       "  font-family: 'Dosis', \"Helvetica Neue\", Arial, sans-serif;\n",
       "  color: #0B132B;\n",
       "}\n",
       "h2 {\n",
       "  font-family: 'Dosis', sans-serif;\n",
       "  color: #1C2541;\n",
       "}\n",
       "h3{\n",
       "  font-family: 'Dosis', sans-serif;\n",
       "  margin-top:12px;\n",
       "  margin-bottom: 3px;\n",
       "  color: #40a8a6;\n",
       "}\n",
       "h4{\n",
       "  font-family: 'Dosis', sans-serif;\n",
       "  color: #40a8a6;\n",
       "}\n",
       "h5 {\n",
       "  font-family: 'Dosis', sans-serif;\n",
       "  color: #40a8a6;\n",
       "}\n",
       "div.text_cell_render{\n",
       "  font-family: 'Didact Gothic',Computer Modern, \"Helvetica Neue\", Arial, Helvetica,\n",
       "  Geneva, sans-serif;\n",
       "  line-height: 130%;\n",
       "  font-size: 110%;\n",
       "  /* width:600px; */\n",
       "  /* margin-left:auto;\n",
       "  margin-right:auto; */\n",
       "}\n",
       "\n",
       ".text_cell_render h1 {\n",
       "  font-weight: 200;\n",
       "  font-size: 30pt;\n",
       "  /* font-size: 50pt */\n",
       "  line-height: 100%;\n",
       "  color:#0B132B;\n",
       "  margin-bottom: 0.5em;\n",
       "  margin-top: 0.5em;\n",
       "  display: block;\n",
       "}\n",
       "\n",
       ".text_cell_render h2{\n",
       "  font-weight: 500;\n",
       "}\n",
       "\n",
       ".text_cell_render h3{\n",
       "  font-weight: 500;\n",
       "}\n",
       "\n",
       "\n",
       ".warning{\n",
       "  color: rgb( 240, 20, 20 )\n",
       "}\n",
       "\n",
       "div.warn {\n",
       "  background-color: #FF5A5F;\n",
       "  border-color: #FF5A5F;\n",
       "  border-left: 5px solid #C81D25;\n",
       "  padding: 0.5em;\n",
       "\n",
       "  color: #fff;\n",
       "  opacity: 0.8;\n",
       "}\n",
       "\n",
       "div.info {\n",
       "  background-color: #087E8B;\n",
       "  border-color: #087E8B;\n",
       "  border-left: 5px solid #0B3954;\n",
       "  padding: 0.5em;\n",
       "  color: #fff;\n",
       "  opacity: 0.8;\n",
       "}\n",
       "\n",
       "</style>\n",
       "<script>\n",
       "MathJax.Hub.Config({\n",
       "  TeX: {\n",
       "    extensions: [\"AMSmath.js\"]\n",
       "    },\n",
       "    tex2jax: {\n",
       "      inlineMath: [ ['$','$'], [\"\\\\(\",\"\\\\)\"] ],\n",
       "      displayMath: [ ['$$','$$'], [\"\\\\[\",\"\\\\]\"] ]\n",
       "      },\n",
       "      displayAlign: 'center', // Change this to 'center' to center equations.\n",
       "      \"HTML-CSS\": {\n",
       "        styles: {'.MathJax_Display': {\"margin\": 4}}\n",
       "      }\n",
       "      });\n",
       "      </script>\n"
      ],
      "text/plain": [
       "<IPython.core.display.HTML object>"
      ]
     },
     "execution_count": 1,
     "metadata": {},
     "output_type": "execute_result"
    }
   ],
   "source": [
    "from IPython.core.display import HTML\n",
    "\n",
    "\n",
    "def css_styling():\n",
    "    styles = open(\"styles/custom.css\", \"r\").read()\n",
    "    return HTML(styles)\n",
    "css_styling()"
   ]
  }
 ],
 "metadata": {
  "kernelspec": {
   "display_name": "Python 3",
   "language": "python",
   "name": "python3"
  },
  "language_info": {
   "codemirror_mode": {
    "name": "ipython",
    "version": 3
   },
   "file_extension": ".py",
   "mimetype": "text/x-python",
   "name": "python",
   "nbconvert_exporter": "python",
   "pygments_lexer": "ipython3",
   "version": "3.6.5"
  }
 },
 "nbformat": 4,
 "nbformat_minor": 2
}
