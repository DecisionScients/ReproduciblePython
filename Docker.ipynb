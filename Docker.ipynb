{
 "cells": [
  {
   "cell_type": "markdown",
   "metadata": {},
   "source": [
    "# Containers"
   ]
  },
  {
   "cell_type": "markdown",
   "metadata": {},
   "source": [
    "### What are the goals of containers?\n",
    "\n",
    "- Isolate full computing environments (not only Python packages)\n",
    "- Provide a mechanism to encapsulate environments in a self-contained unit that can run anywhere"
   ]
  },
  {
   "cell_type": "markdown",
   "metadata": {},
   "source": [
    "### Why do we need containers?\n",
    "- Science Reproducibility \n",
    "- Collaboration with your colleagues\n",
    "- Installing new software without fear of breaking you environment."
   ]
  },
  {
   "cell_type": "markdown",
   "metadata": {},
   "source": [
    "### Difference between Virtual Machines and Containers\n",
    "The main idea is the same &ndash; isolate the computing environment, but they differ.\n",
    "\n",
    "- Virtual Machine:\n",
    "    - emulate whole computer system (software+hardware)\n",
    "    - run on top of a physical machine using a hypervisor\n",
    "    - hypervisor shares and manages hardware of the host and executes the guest operating system\n",
    "    - guest machines are completely isolated and have dedicated resources\n",
    "\n",
    "<img src=\"assets/VM.png\" alt=\"metadata\" width='300px'>\n",
    "\n",
    "- Containers (Docker)\n",
    "    - share the host system’s kernel with other containers\n",
    "    - each container gets its own isolated user space\n",
    "    - only bins and libs are created from scratch\n",
    "    - **containers are very lightweight and fast to start up**\n",
    "    \n",
    "<img src=\"assets/Container.png\" alt=\"metadata\" width='300px'>\n",
    "\n",
    "You can find more on:\n",
    " - [Docker website](https://www.docker.com/what-container)\n",
    " - [Beginner friendly intro to VMs and Docker](https://medium.freecodecamp.org/a-beginner-friendly-introduction-to-containers-vms-and-docker-79a9e3e119b)\n"
   ]
  },
  {
   "cell_type": "markdown",
   "metadata": {},
   "source": [
    "# [Docker](docker.com)\n",
    "- leading software container platform\n",
    "- an open-source project\n",
    "- it runs now on Mac OS X and Windows (Pro versions) without VM"
   ]
  },
  {
   "cell_type": "markdown",
   "metadata": {},
   "source": [
    "### Using Docker\n",
    "- you can use existing Docker images, many public images can be found on [Docker Hub](https://hub.docker.com/)\n",
    "    - example of running existing images can be found [here](http://nipy.org/workshops/2017-03-boston/lectures/lesson-container/#29)\n",
    "- you can create your own images by writing `Dockerfile`\n",
    "    - the simplest examples you can find [here](http://nipy.org/workshops/2017-03-boston/lectures/lesson-container/#31)\n",
    "    - [Dockerfile official reference](https://docs.docker.com/engine/reference/builder/#from)"
   ]
  },
  {
   "cell_type": "markdown",
   "metadata": {},
   "source": [
    "### Docker and Singularity\n",
    "- Docker:\n",
    "    - docker can escalate privileges, so you can be effectively treated as a root on the host system\n",
    "    - this is usually not supported by administrators from HPC centers\n",
    "- [Singularity](http://singularity.lbl.gov/):\n",
    "    - a container solution created for scientific and application driven workloads\n",
    "    - supports existing and traditional HPC resources\n",
    "    - a user inside a Singularity container is the same user as outside the container\n",
    "    - but you can use Vagrant to create a container (you have root privileges on your VM!)\n",
    "    - can run (and modify!) existing Docker containers\n",
    "    - running VM is required on OSX and Windows\n",
    "\n"
   ]
  }
 ],
 "metadata": {
  "kernelspec": {
   "display_name": "Python 3",
   "language": "python",
   "name": "python3"
  },
  "language_info": {
   "codemirror_mode": {
    "name": "ipython",
    "version": 3
   },
   "file_extension": ".py",
   "mimetype": "text/x-python",
   "name": "python",
   "nbconvert_exporter": "python",
   "pygments_lexer": "ipython3",
   "version": "3.6.5"
  }
 },
 "nbformat": 4,
 "nbformat_minor": 2
}
